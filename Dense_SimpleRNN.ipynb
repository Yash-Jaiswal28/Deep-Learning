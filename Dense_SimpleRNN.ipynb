{
  "nbformat": 4,
  "nbformat_minor": 0,
  "metadata": {
    "colab": {
      "provenance": [],
      "gpuType": "T4",
      "authorship_tag": "ABX9TyPnjMyWonGtzl4WkApKaFR6",
      "include_colab_link": true
    },
    "kernelspec": {
      "name": "python3",
      "display_name": "Python 3"
    },
    "language_info": {
      "name": "python"
    },
    "accelerator": "GPU"
  },
  "cells": [
    {
      "cell_type": "markdown",
      "metadata": {
        "id": "view-in-github",
        "colab_type": "text"
      },
      "source": [
        "<a href=\"https://colab.research.google.com/github/Yash-Jaiswal28/Deep-Learning/blob/main/Dense_SimpleRNN.ipynb\" target=\"_parent\"><img src=\"https://colab.research.google.com/assets/colab-badge.svg\" alt=\"Open In Colab\"/></a>"
      ]
    },
    {
      "cell_type": "code",
      "execution_count": 1,
      "metadata": {
        "id": "oSUUR8DzHIJW"
      },
      "outputs": [],
      "source": [
        "import tensorflow as tf\n",
        "from tensorflow.keras.datasets import imdb\n",
        "from tensorflow.keras.preprocessing.sequence import pad_sequences\n",
        "from tensorflow.keras.models import Sequential\n",
        "from tensorflow.keras.layers import Embedding, SimpleRNN, Dense"
      ]
    },
    {
      "cell_type": "code",
      "source": [
        "#Load the IMDB dataset\n",
        "(x_train,y_train),(x_test,y_test)=imdb.load_data(num_words=10000)\n",
        "\n",
        "#Pad sequences to have the same length\n",
        "x_train = pad_sequences(x_train, maxlen=100)\n",
        "x_test = pad_sequences(x_test, maxlen=100)"
      ],
      "metadata": {
        "id": "QV9l0XvTHyYs"
      },
      "execution_count": 3,
      "outputs": []
    },
    {
      "cell_type": "code",
      "source": [
        "#Define the RNN model\n",
        "model = Sequential([\n",
        "    Embedding(1000,32,input_length=100), #Embeddng layer to convert words to vectors, every word will be represented by 32 bit vector\n",
        "    SimpleRNN(5,return_sequences=True),  #RNN layer with 5 units\n",
        "    SimpleRNN(5),                        #Another RNN layer with 5 units\n",
        "    Dense(1,activation = 'sigmoid')      #Output layer for binary classification\n",
        "])\n",
        "\n",
        "model.summary()\n",
        "###\n",
        "32000 - 1000*32\n",
        "190 - 32*5+ 5*5 + 5\n",
        "55 - 5*5 + 5*5 + 5\n",
        "6 - 5*1 + 1\n",
        "###"
      ],
      "metadata": {
        "colab": {
          "base_uri": "https://localhost:8080/"
        },
        "id": "8HtCxlJHIaIq",
        "outputId": "2fceab0e-1702-4702-e059-d11dbc64da5e"
      },
      "execution_count": 5,
      "outputs": [
        {
          "output_type": "stream",
          "name": "stdout",
          "text": [
            "Model: \"sequential_1\"\n",
            "_________________________________________________________________\n",
            " Layer (type)                Output Shape              Param #   \n",
            "=================================================================\n",
            " embedding_1 (Embedding)     (None, 100, 32)           32000     \n",
            "                                                                 \n",
            " simple_rnn_2 (SimpleRNN)    (None, 100, 5)            190       \n",
            "                                                                 \n",
            " simple_rnn_3 (SimpleRNN)    (None, 5)                 55        \n",
            "                                                                 \n",
            " dense_1 (Dense)             (None, 1)                 6         \n",
            "                                                                 \n",
            "=================================================================\n",
            "Total params: 32251 (125.98 KB)\n",
            "Trainable params: 32251 (125.98 KB)\n",
            "Non-trainable params: 0 (0.00 Byte)\n",
            "_________________________________________________________________\n"
          ]
        },
        {
          "output_type": "execute_result",
          "data": {
            "text/plain": [
              "2"
            ]
          },
          "metadata": {},
          "execution_count": 5
        }
      ]
    },
    {
      "cell_type": "code",
      "source": [
        "model.compile(optimizer = 'adam', loss='binary_crossentropy', metrics=['acc'])"
      ],
      "metadata": {
        "id": "TVnfzRW1JUOi"
      },
      "execution_count": 7,
      "outputs": []
    },
    {
      "cell_type": "code",
      "source": [
        "history = model.fit(x_train, y_train, epochs = 5,batch_size =32, validation_split = 0.2)"
      ],
      "metadata": {
        "colab": {
          "base_uri": "https://localhost:8080/"
        },
        "id": "zT42sIz6Lmr9",
        "outputId": "c818459a-6fed-4e0a-b0ce-3bb0f22d81ec"
      },
      "execution_count": 8,
      "outputs": [
        {
          "output_type": "stream",
          "name": "stdout",
          "text": [
            "Epoch 1/5\n",
            "625/625 [==============================] - 120s 186ms/step - loss: 0.5823 - acc: 0.6927 - val_loss: 0.4932 - val_acc: 0.7778\n",
            "Epoch 2/5\n",
            "625/625 [==============================] - 96s 153ms/step - loss: 0.4553 - acc: 0.8005 - val_loss: 0.4621 - val_acc: 0.7928\n",
            "Epoch 3/5\n",
            "625/625 [==============================] - 92s 147ms/step - loss: 0.4251 - acc: 0.8166 - val_loss: 0.4540 - val_acc: 0.7976\n",
            "Epoch 4/5\n",
            "625/625 [==============================] - 93s 149ms/step - loss: 0.3940 - acc: 0.8352 - val_loss: 0.4703 - val_acc: 0.7936\n",
            "Epoch 5/5\n",
            "625/625 [==============================] - 93s 149ms/step - loss: 0.3786 - acc: 0.8397 - val_loss: 0.4593 - val_acc: 0.7942\n"
          ]
        }
      ]
    },
    {
      "cell_type": "code",
      "source": [
        "import matplotlib.pyplot as plt"
      ],
      "metadata": {
        "id": "tEbRGZXYL28S"
      },
      "execution_count": 9,
      "outputs": []
    },
    {
      "cell_type": "code",
      "source": [
        "plt.plot(history.history['acc'])\n",
        "plt.plot(history.history['val_acc'])"
      ],
      "metadata": {
        "colab": {
          "base_uri": "https://localhost:8080/",
          "height": 447
        },
        "id": "cs7DPFy9OIym",
        "outputId": "3f8fc030-1f38-4d50-c03f-61a0fee8a8b6"
      },
      "execution_count": 13,
      "outputs": [
        {
          "output_type": "execute_result",
          "data": {
            "text/plain": [
              "[<matplotlib.lines.Line2D at 0x7f499e192a70>]"
            ]
          },
          "metadata": {},
          "execution_count": 13
        },
        {
          "output_type": "display_data",
          "data": {
            "text/plain": [
              "<Figure size 640x480 with 1 Axes>"
            ],
            "image/png": "[encoded data removed]"
          },
          "metadata": {}
        }
      ]
    },
    {
      "cell_type": "code",
      "source": [],
      "metadata": {
        "id": "wEJ7y-Y5OP9I"
      },
      "execution_count": null,
      "outputs": []
    }
  ]
}